{
 "cells": [
  {
   "cell_type": "markdown",
   "metadata": {},
   "source": [
    "분류문제 (binary classification)\n",
    "hypothesis : x가 1일 확률"
   ]
  },
  {
   "cell_type": "code",
   "execution_count": 1,
   "metadata": {},
   "outputs": [
    {
     "data": {
      "text/plain": [
       "<torch._C.Generator at 0x7f83492604b0>"
      ]
     },
     "execution_count": 1,
     "metadata": {},
     "output_type": "execute_result"
    }
   ],
   "source": [
    "import torch\n",
    "import torch.nn as nn\n",
    "import torch.nn.functional as F\n",
    "import torch.optim as optim\n",
    "torch.manual_seed(1)"
   ]
  },
  {
   "cell_type": "code",
   "execution_count": 2,
   "metadata": {},
   "outputs": [],
   "source": [
    "x_data = [[1, 2], [2, 3], [3, 1], [4, 3], [5, 3], [6, 2]]\n",
    "y_data = [[0], [0], [0], [1], [1], [1]]\n",
    "\n",
    "x_train = torch.FloatTensor(x_data)\n",
    "y_train = torch.FloatTensor(y_data)"
   ]
  },
  {
   "cell_type": "code",
   "execution_count": 3,
   "metadata": {},
   "outputs": [],
   "source": [
    "W = torch.zeros((2,1), requires_grad = True)\n",
    "b = torch.zeros(1, requires_grad = True)"
   ]
  },
  {
   "cell_type": "code",
   "execution_count": 4,
   "metadata": {},
   "outputs": [],
   "source": [
    "hypothesis = 1/(1+torch.exp(-(x_train.matmul(W)+b)))"
   ]
  },
  {
   "cell_type": "code",
   "execution_count": 5,
   "metadata": {},
   "outputs": [
    {
     "name": "stdout",
     "output_type": "stream",
     "text": [
      "tensor([[0.5000],\n",
      "        [0.5000],\n",
      "        [0.5000],\n",
      "        [0.5000],\n",
      "        [0.5000],\n",
      "        [0.5000]], grad_fn=<MulBackward0>) torch.Size([6, 1])\n"
     ]
    }
   ],
   "source": [
    "print(hypothesis, hypothesis.shape)"
   ]
  },
  {
   "cell_type": "markdown",
   "metadata": {},
   "source": [
    "Cross Entropy Error 사용!"
   ]
  },
  {
   "cell_type": "code",
   "execution_count": 7,
   "metadata": {},
   "outputs": [
    {
     "name": "stdout",
     "output_type": "stream",
     "text": [
      "tensor(0.6931, grad_fn=<BinaryCrossEntropyBackward>)\n"
     ]
    }
   ],
   "source": [
    "cost = F.binary_cross_entropy(hypothesis, y_train)\n",
    "print(cost)"
   ]
  },
  {
   "cell_type": "code",
   "execution_count": 16,
   "metadata": {},
   "outputs": [
    {
     "name": "stdout",
     "output_type": "stream",
     "text": [
      "epoch    0/1000 Cost: 0.693147\n",
      "epoch   50/1000 Cost: 0.319570\n",
      "epoch  100/1000 Cost: 0.134722\n",
      "epoch  150/1000 Cost: 0.100731\n",
      "epoch  200/1000 Cost: 0.080643\n",
      "epoch  250/1000 Cost: 0.067357\n",
      "epoch  300/1000 Cost: 0.057900\n",
      "epoch  350/1000 Cost: 0.050814\n",
      "epoch  400/1000 Cost: 0.045300\n",
      "epoch  450/1000 Cost: 0.040882\n",
      "epoch  500/1000 Cost: 0.037261\n",
      "epoch  550/1000 Cost: 0.034237\n",
      "epoch  600/1000 Cost: 0.031672\n",
      "epoch  650/1000 Cost: 0.029469\n",
      "epoch  700/1000 Cost: 0.027556\n",
      "epoch  750/1000 Cost: 0.025878\n",
      "epoch  800/1000 Cost: 0.024394\n",
      "epoch  850/1000 Cost: 0.023073\n",
      "epoch  900/1000 Cost: 0.021888\n",
      "epoch  950/1000 Cost: 0.020820\n",
      "epoch 1000/1000 Cost: 0.019852\n"
     ]
    }
   ],
   "source": [
    "#train\n",
    "\n",
    "W = torch.zeros((2,1), requires_grad = True)\n",
    "b = torch.zeros(1, requires_grad = True)\n",
    "optimizer = optim.SGD([W,b],lr = 1)\n",
    "epochs = 1000\n",
    "for epoch in range(epochs+1):\n",
    "    hypothesis = torch.sigmoid(x_train.matmul(W)+b)\n",
    "    cost = F.binary_cross_entropy(hypothesis, y_train)\n",
    "    \n",
    "    optimizer.zero_grad()\n",
    "    cost.backward()\n",
    "    optimizer.step()\n",
    "    \n",
    "    if epoch%50 ==0:\n",
    "        print('epoch {:4d}/{} Cost: {:.6f}'.format(epoch, epochs, cost.item()))"
   ]
  },
  {
   "cell_type": "code",
   "execution_count": 17,
   "metadata": {},
   "outputs": [
    {
     "name": "stdout",
     "output_type": "stream",
     "text": [
      "tensor([[2.7648e-04],\n",
      "        [3.1608e-02],\n",
      "        [3.8977e-02],\n",
      "        [9.5622e-01],\n",
      "        [9.9823e-01],\n",
      "        [9.9969e-01]], grad_fn=<SigmoidBackward>)\n"
     ]
    }
   ],
   "source": [
    "# evaluation\n",
    "# 여기서는 test셋이 따로 없어서 train으로 확인\n",
    "result = torch.sigmoid(x_train.matmul(W)+b)\n",
    "print(result)"
   ]
  },
  {
   "cell_type": "markdown",
   "metadata": {},
   "source": [
    "# Higher Implementation with Class (실전 구현)"
   ]
  },
  {
   "cell_type": "code",
   "execution_count": 23,
   "metadata": {},
   "outputs": [],
   "source": [
    "class BinaryClassifier(nn.Module):   #nn.Module이라는 추상클래스를 상속받음\n",
    "    def __init__(self):\n",
    "        super().__init__()\n",
    "        self.linear = nn.Linear(2,1) #W와 b가 둘다 들어있는 Linear layer\n",
    "        self.sigmoid = nn.Sigmoid()\n",
    "    \n",
    "    def forward(self,x):\n",
    "        return self.sigmoid(self.linear(x))\n",
    "    \n",
    "model = BinaryClassifier()"
   ]
  },
  {
   "cell_type": "code",
   "execution_count": 24,
   "metadata": {},
   "outputs": [
    {
     "name": "stdout",
     "output_type": "stream",
     "text": [
      "Epoch    0/100 Cost: 0.733120 Accuracy 50.00\n",
      "Epoch   10/100 Cost: 0.471201 Accuracy 83.33\n",
      "Epoch   20/100 Cost: 0.739920 Accuracy 66.67\n",
      "Epoch   30/100 Cost: 0.542286 Accuracy 83.33\n",
      "Epoch   40/100 Cost: 0.451817 Accuracy 83.33\n",
      "Epoch   50/100 Cost: 0.367631 Accuracy 83.33\n",
      "Epoch   60/100 Cost: 0.288507 Accuracy 83.33\n",
      "Epoch   70/100 Cost: 0.220185 Accuracy 83.33\n",
      "Epoch   80/100 Cost: 0.173718 Accuracy 100.00\n",
      "Epoch   90/100 Cost: 0.151886 Accuracy 100.00\n",
      "Epoch  100/100 Cost: 0.140431 Accuracy 100.00\n"
     ]
    }
   ],
   "source": [
    "optimizer = optim.SGD(model.parameters(), lr = 1)\n",
    "epochs = 100\n",
    "for epoch in range(epochs+1):\n",
    "    hypothesis = model(x_train)\n",
    "    cost = F.binary_cross_entropy(hypothesis, y_train)\n",
    "    \n",
    "    optimizer.zero_grad()\n",
    "    cost.backward()\n",
    "    optimizer.step()\n",
    "    \n",
    "    if epoch%10 ==0:\n",
    "        prediction = hypothesis >= torch.FloatTensor([0.5])\n",
    "        correct_predic = prediction.float()==y_train\n",
    "        accuracy = correct_predic.sum().item()/len(correct_predic)\n",
    "        print('Epoch {:4d}/{} Cost: {:.6f} Accuracy {:2.2f}'.format(epoch, epochs, cost.item(),accuracy*100))"
   ]
  },
  {
   "cell_type": "code",
   "execution_count": null,
   "metadata": {},
   "outputs": [],
   "source": []
  }
 ],
 "metadata": {
  "kernelspec": {
   "display_name": "pytorch",
   "language": "python",
   "name": "pytorch"
  },
  "language_info": {
   "codemirror_mode": {
    "name": "ipython",
    "version": 3
   },
   "file_extension": ".py",
   "mimetype": "text/x-python",
   "name": "python",
   "nbconvert_exporter": "python",
   "pygments_lexer": "ipython3",
   "version": "3.8.5"
  }
 },
 "nbformat": 4,
 "nbformat_minor": 4
}
