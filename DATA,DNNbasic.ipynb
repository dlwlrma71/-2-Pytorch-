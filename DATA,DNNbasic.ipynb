{
 "cells": [
  {
   "cell_type": "code",
   "execution_count": 19,
   "metadata": {},
   "outputs": [],
   "source": [
    "import torch\n",
    "import torch.nn as nn\n",
    "import random\n",
    "import torchvision.transforms as transforms"
   ]
  },
  {
   "cell_type": "code",
   "execution_count": 24,
   "metadata": {},
   "outputs": [],
   "source": [
    "device = 'cuda' if torch.cuda.is_available() else 'cpu'\n",
    "\n",
    "# for reproducibility\n",
    "random.seed(777)\n",
    "torch.manual_seed(777)\n",
    "if device == 'cuda':\n",
    "    torch.cuda.manual_seed_all(777)"
   ]
  },
  {
   "cell_type": "markdown",
   "metadata": {},
   "source": [
    "# Reading DATA"
   ]
  },
  {
   "cell_type": "code",
   "execution_count": 25,
   "metadata": {},
   "outputs": [],
   "source": [
    "import torchvision.datasets as dsets\n",
    "#MNIST 함수 사용, root : 어느 경로에 있나 train : True -> train set을 불러오겠다.\n",
    "#transform : 어떤 변환 함수를 사용할 것인가? \n",
    "mnist_train = dsets.MNIST(root = \"Mnist_data/\", train = True, transform = transforms.ToTensor(), download = True)\n",
    "mnist_test = dsets.MNIST(root = \"Mnist_data/\", train = False, transform = transforms.ToTensor(), download = True)\n",
    " \n",
    "batch_size = 100\n",
    "#dataloader : 어떤 데이터를 로드할거냐, drop_last: 100으로 나눈 나머지 데이터들을 그냥 버리기\n",
    "data_loader = torch.utils.data.DataLoader(dataset=mnist_train,\n",
    "                                          batch_size=batch_size,\n",
    "                                          shuffle=True,\n",
    "                                          drop_last=True)\n"
   ]
  },
  {
   "cell_type": "code",
   "execution_count": 26,
   "metadata": {},
   "outputs": [
    {
     "name": "stdout",
     "output_type": "stream",
     "text": [
      "600\n",
      "600\n",
      "epoch: 0001 cost =  0.535468519\n",
      "600\n",
      "600\n",
      "epoch: 0002 cost =  0.359274149\n",
      "600\n",
      "600\n",
      "epoch: 0003 cost =  0.331187546\n",
      "600\n",
      "600\n",
      "epoch: 0004 cost =  0.316578060\n",
      "600\n",
      "600\n",
      "epoch: 0005 cost =  0.307158172\n",
      "600\n",
      "600\n",
      "epoch: 0006 cost =  0.300180733\n",
      "600\n",
      "600\n",
      "epoch: 0007 cost =  0.295130193\n",
      "600\n",
      "600\n",
      "epoch: 0008 cost =  0.290851504\n",
      "600\n",
      "600\n",
      "epoch: 0009 cost =  0.287417054\n",
      "600\n",
      "600\n",
      "epoch: 0010 cost =  0.284379572\n",
      "600\n",
      "600\n",
      "epoch: 0011 cost =  0.281825185\n",
      "600\n",
      "600\n",
      "epoch: 0012 cost =  0.279800713\n",
      "600\n",
      "600\n",
      "epoch: 0013 cost =  0.277809024\n",
      "600\n",
      "600\n",
      "epoch: 0014 cost =  0.276154310\n",
      "600\n",
      "600\n",
      "epoch: 0015 cost =  0.274440855\n"
     ]
    }
   ],
   "source": [
    "linear = torch.nn.Linear(784, 10, bias = True).to(device)\n",
    "epochs = 15\n",
    "batch_size = 100  # 총 데이터가 6만장이라면, 배치 600개, batchsize : 100개\n",
    "\n",
    "criterion = torch.nn.CrossEntropyLoss().to(device)\n",
    "optimizer = torch.optim.SGD(linear.parameters(), lr = 0.1)\n",
    "\n",
    "for epoch in range(epochs):  #15번동안 MNIST 전체 데이터를 가지고 학습\n",
    "    avg_cost = 0\n",
    "    total_batch = len(data_loader) \n",
    "    print(total_batch)\n",
    "    c = 0\n",
    "    for X,Y in data_loader: #batch size만큼의 data, label을 불러온다, 한 에폭이 될 때까지 계속 반복 (예상 : 600번)\n",
    "        c+=1\n",
    "        X = X.view(-1,28*28).to(device) # (batch_size, 676)으로 사이즈 변경\n",
    "        optimizer.zero_grad()\n",
    "        hypothesis = linear(X)\n",
    "        cost = criterion(hypothesis, Y)\n",
    "        cost.backward()\n",
    "        optimizer.step()\n",
    "        avg_cost+= cost/total_batch\n",
    "    #print(c)\n",
    "    print(\"epoch:\",\"%04d\"%(epoch+1), \"cost = \", \"{:.9f}\".format(avg_cost))"
   ]
  },
  {
   "cell_type": "code",
   "execution_count": 28,
   "metadata": {},
   "outputs": [
    {
     "name": "stdout",
     "output_type": "stream",
     "text": [
      "Accuracy:  0.8863000273704529\n"
     ]
    },
    {
     "name": "stderr",
     "output_type": "stream",
     "text": [
      "/Users/dlwlrma71/opt/anaconda3/envs/pytorch/lib/python3.8/site-packages/torchvision/datasets/mnist.py:63: UserWarning: test_data has been renamed data\n",
      "  warnings.warn(\"test_data has been renamed data\")\n",
      "/Users/dlwlrma71/opt/anaconda3/envs/pytorch/lib/python3.8/site-packages/torchvision/datasets/mnist.py:53: UserWarning: test_labels has been renamed targets\n",
      "  warnings.warn(\"test_labels has been renamed targets\")\n"
     ]
    }
   ],
   "source": [
    "with torch.no_grad():\n",
    "    X_test = mnist_test.test_data.view(-1,28*28).float().to(device)\n",
    "    Y_test = mnist_test.test_labels.to(device)\n",
    "    prediction = linear(X_test)\n",
    "    correct_prediction = torch.argmax(prediction,1) == Y_test \n",
    "    #torch.argmax : 최대값의 index반환 -> 예측 Label / dim = 1 방향으로!\n",
    "    accuracy = correct_prediction.float().mean()\n",
    "    print(\"Accuracy: \", accuracy.item())"
   ]
  },
  {
   "cell_type": "markdown",
   "metadata": {},
   "source": [
    "# Visualization"
   ]
  },
  {
   "cell_type": "code",
   "execution_count": 35,
   "metadata": {},
   "outputs": [
    {
     "name": "stdout",
     "output_type": "stream",
     "text": [
      "5\n"
     ]
    },
    {
     "data": {
      "image/png": "[encoded data removed]",
      "text/plain": [
       "<Figure size 432x288 with 1 Axes>"
      ]
     },
     "metadata": {
      "needs_background": "light"
     },
     "output_type": "display_data"
    }
   ],
   "source": [
    "import matplotlib.pyplot as plt\n",
    "import random\n",
    "r = random.randint(0,len(mnist_test)-1)\n",
    "X_single_data = mnist_test.test_data[r:r+1].view(-1,28*28).float().to(device)\n",
    "Y_single_data = mnist_test.test_labels[r:r+1].to(device)\n",
    "\n",
    "single_prediction = linear(X_single_data)\n",
    "print(torch.argmax(single_prediction,1).item())\n",
    "\n",
    "plt.imshow(mnist_test.test_data[r:r+1].view(28,28),cmap = \"Greys\", interpolation = \"nearest\")\n",
    "plt.show()"
   ]
  },
  {
   "cell_type": "markdown",
   "metadata": {},
   "source": [
    "# Multilayer Perceptron"
   ]
  },
  {
   "cell_type": "code",
   "execution_count": null,
   "metadata": {},
   "outputs": [],
   "source": []
  },
  {
   "cell_type": "code",
   "execution_count": 5,
   "metadata": {},
   "outputs": [],
   "source": [
    "device = 'cuda' if torch.cuda.is_available() else 'cpu'\n",
    "\n",
    "# for reproducibility\n",
    "torch.manual_seed(777)\n",
    "if device == 'cuda':\n",
    "    torch.cuda.manual_seed_all(777)"
   ]
  },
  {
   "cell_type": "code",
   "execution_count": 10,
   "metadata": {},
   "outputs": [
    {
     "name": "stdout",
     "output_type": "stream",
     "text": [
      "0 0.7126196026802063\n",
      "500 0.6931912899017334\n",
      "1000 0.6931604146957397\n",
      "1500 0.693139910697937\n",
      "2000 0.6930840015411377\n",
      "2500 0.6895953416824341\n",
      "3000 0.04585696756839752\n",
      "3500 0.013895146548748016\n",
      "4000 0.008052884601056576\n",
      "4500 0.0056461151689291\n",
      "5000 0.0043395026586949825\n",
      "5500 0.003520903643220663\n",
      "6000 0.002960497047752142\n",
      "6500 0.002553110709413886\n",
      "7000 0.0022437721490859985\n",
      "7500 0.0020009279251098633\n",
      "8000 0.0018052862724289298\n",
      "8500 0.0016442961059510708\n",
      "9000 0.0015095683047547936\n",
      "9500 0.0013951826840639114\n",
      "10000 0.001296805334277451\n"
     ]
    }
   ],
   "source": [
    "X = torch.FloatTensor([[0, 0], [0, 1], [1, 0], [1, 1]]).to(device)\n",
    "Y = torch.FloatTensor([[0], [1], [1], [0]]).to(device)\n",
    "\n",
    "linear1 = nn.Linear(2,2,bias = True)\n",
    "linear2 = nn.Linear(2,1,bias = True)\n",
    "sigmoid = nn.Sigmoid()\n",
    "\n",
    "model = nn.Sequential(linear1, sigmoid, linear2, sigmoid).to(device)\n",
    "\n",
    "criterion = nn.BCELoss().to(device)  # Loss Function : BCE\n",
    "optimizer = torch.optim.SGD(model.parameters(), lr = 1)\n",
    "for step in range(10001):\n",
    "    optimizer.zero_grad()\n",
    "    hypothesis = model(X)\n",
    "    cost = criterion(hypothesis,Y) \n",
    "    \n",
    "    cost.backward()\n",
    "    optimizer.step()\n",
    "    if step % 500 == 0:\n",
    "        print(step, cost.item())\n",
    "    "
   ]
  },
  {
   "cell_type": "code",
   "execution_count": null,
   "metadata": {},
   "outputs": [],
   "source": []
  }
 ],
 "metadata": {
  "kernelspec": {
   "display_name": "pytorch",
   "language": "python",
   "name": "pytorch"
  },
  "language_info": {
   "codemirror_mode": {
    "name": "ipython",
    "version": 3
   },
   "file_extension": ".py",
   "mimetype": "text/x-python",
   "name": "python",
   "nbconvert_exporter": "python",
   "pygments_lexer": "ipython3",
   "version": "3.8.5"
  }
 },
 "nbformat": 4,
 "nbformat_minor": 4
}
