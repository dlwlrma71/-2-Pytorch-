{
 "cells": [
  {
   "cell_type": "code",
   "execution_count": 6,
   "metadata": {},
   "outputs": [],
   "source": [
    "import torch\n",
    "import torch.nn as nn\n",
    "import torchvision.datasets as dsets\n",
    "import torchvision.transforms as transforms\n",
    "import random"
   ]
  },
  {
   "cell_type": "markdown",
   "metadata": {},
   "source": [
    "# Fully Connected with ReLU, Xavier_Init, Dropout"
   ]
  },
  {
   "cell_type": "code",
   "execution_count": 20,
   "metadata": {},
   "outputs": [],
   "source": [
    "device = 'cuda' if torch.cuda.is_available() else 'cpu'\n",
    "\n",
    "# for reproducibility\n",
    "random.seed(777)\n",
    "torch.manual_seed(777)\n",
    "if device == 'cuda':\n",
    "    torch.cuda.manual_seed_all(777)"
   ]
  },
  {
   "cell_type": "code",
   "execution_count": 32,
   "metadata": {},
   "outputs": [
    {
     "name": "stdout",
     "output_type": "stream",
     "text": [
      "epoch: 1, avg_cost : 0.43828\n",
      "epoch: 2, avg_cost : 0.20776\n",
      "epoch: 3, avg_cost : 0.16953\n",
      "epoch: 4, avg_cost : 0.14298\n",
      "epoch: 5, avg_cost : 0.13300\n",
      "epoch: 6, avg_cost : 0.12202\n",
      "epoch: 7, avg_cost : 0.10891\n",
      "epoch: 8, avg_cost : 0.10568\n",
      "epoch: 9, avg_cost : 0.10153\n",
      "epoch: 10, avg_cost : 0.09643\n"
     ]
    }
   ],
   "source": [
    "mnist_train = dsets.MNIST(root = \"MNIST_data/\", train = True, transform = transforms.ToTensor(), download=True)\n",
    "mnist_test = dsets.MNIST(root = \"MNIST_data/\", train = False, transform = transforms.ToTensor(), download=True)\n",
    "batch_size = 100\n",
    "data_loader = torch.utils.data.DataLoader(mnist_train, batch_size = batch_size, shuffle = True, drop_last =True)\n",
    "\n",
    "linear1 = nn.Linear(784,256,bias= True).to(device)\n",
    "linear2 = nn.Linear(256,256,bias= True).to(device)\n",
    "linear3 = nn.Linear(256,10,bias= True).to(device)\n",
    "#ReLU\n",
    "relu = nn.ReLU()\n",
    "#Dropout\n",
    "dropout = torch.nn.Dropout(p = 0.5)\n",
    "#Xavier Initialization\n",
    "torch.nn.init.xavier_uniform_(linear1.weight)\n",
    "torch.nn.init.xavier_uniform_(linear2.weight)\n",
    "torch.nn.init.xavier_uniform_(linear3.weight)\n",
    "\n",
    "epochs = 10\n",
    "learning_rate = 0.001\n",
    "\n",
    "model = torch.nn.Sequential(linear1,relu,dropout, linear2,relu,dropout, linear3).to(device)\n",
    "#! 여기에 소프트맥스를 막단에 넣어줄 필요가 없는게, 함수 실행시 torch.nn.CrossEntropyLoss()에서 저절로 softmax까지 계산한 loss를 반환한다.\n",
    "optimizer = torch.optim.Adam(model.parameters(),lr = learning_rate)\n",
    "criterion = torch.nn.CrossEntropyLoss().to(device)\n",
    "\n",
    "model.train() #드롭아웃, BN등이 train에만 적용되어야함\n",
    "for epoch in range(epochs):\n",
    "    total_batch = len(data_loader)\n",
    "    avg_cost = 0\n",
    "    for X,Y in data_loader:\n",
    "        X = X.view(-1,28*28).to(device)\n",
    "        Y = Y.to(device)\n",
    "        hypothesis = model(X)\n",
    "        optimizer.zero_grad()\n",
    "        cost = criterion(hypothesis, Y)\n",
    "        cost.backward()\n",
    "        optimizer.step()\n",
    "        avg_cost+= cost/total_batch\n",
    "    \n",
    "    print(\"epoch: %d, avg_cost : %.5f\"%((epoch+1),avg_cost))\n",
    "        \n",
    "        \n",
    "        "
   ]
  },
  {
   "cell_type": "code",
   "execution_count": 33,
   "metadata": {},
   "outputs": [
    {
     "name": "stdout",
     "output_type": "stream",
     "text": [
      "Accuracy: 0.97730\n"
     ]
    }
   ],
   "source": [
    "with torch.no_grad():\n",
    "    model.eval() #드롭아웃, BN등이 train에만 적용되어야함\n",
    "    X_test = mnist_test.test_data.view(-1,28*28).float().to(device)\n",
    "    Y_test = mnist_test.test_labels.to(device)\n",
    "    prediction= model(X_test)\n",
    "    correct_prediction = Y_test == torch.argmax(prediction,1)\n",
    "    accuracy = correct_prediction.float().mean()\n",
    "    print(\"Accuracy: %.5f\"%accuracy.item())"
   ]
  },
  {
   "cell_type": "markdown",
   "metadata": {},
   "source": [
    "# BatchNormalization"
   ]
  },
  {
   "cell_type": "code",
   "execution_count": 36,
   "metadata": {},
   "outputs": [
    {
     "name": "stdout",
     "output_type": "stream",
     "text": [
      "epoch: 1, avg_cost : 0.10159\n",
      "epoch: 2, avg_cost : 0.10159\n",
      "epoch: 3, avg_cost : 0.10159\n",
      "epoch: 4, avg_cost : 0.10159\n",
      "epoch: 5, avg_cost : 0.10159\n",
      "epoch: 6, avg_cost : 0.10159\n",
      "epoch: 7, avg_cost : 0.10159\n",
      "epoch: 8, avg_cost : 0.10159\n",
      "epoch: 9, avg_cost : 0.10159\n",
      "epoch: 10, avg_cost : 0.10159\n"
     ]
    }
   ],
   "source": [
    "bn1 = torch.nn.BatchNorm1d(256)\n",
    "bn2 = torch.nn.BatchNorm1d(256)\n",
    "linear1n = nn.Linear(784,256,bias= True).to(device)\n",
    "linear2n = nn.Linear(256,256,bias= True).to(device)\n",
    "linear3n = nn.Linear(256,10,bias= True).to(device)\n",
    "#ReLU\n",
    "relu = nn.ReLU()\n",
    "#Xavier Initialization\n",
    "torch.nn.init.xavier_uniform_(linear1n.weight)\n",
    "torch.nn.init.xavier_uniform_(linear2n.weight)\n",
    "torch.nn.init.xavier_uniform_(linear3n.weight)\n",
    "\n",
    "bn_model = torch.nn.Sequential(linear1n, bn1, relu, linear2n, bn2,relu,linear3n).to(device)\n",
    "\n",
    "bn_optimizer = torch.optim.Adam(model.parameters(),lr = learning_rate)\n",
    "criterion = torch.nn.CrossEntropyLoss().to(device)\n",
    "\n",
    "bn_model.train() #드롭아웃, BN등이 train에만 적용되어야함\n",
    "for epoch in range(epochs):\n",
    "    total_batch = len(data_loader)\n",
    "    avg_cost = 0\n",
    "    for X,Y in data_loader:\n",
    "        X = X.view(-1,28*28).to(device)\n",
    "        Y = Y.to(device)\n",
    "        hypothesis = bn_model(X)\n",
    "        bn_optimizer.zero_grad()\n",
    "        bn_cost = criterion(hypothesis, Y)\n",
    "        bn_cost.backward()\n",
    "        bn_optimizer.step()\n",
    "        avg_cost+= cost/total_batch\n",
    "    \n",
    "    print(\"epoch: %d, avg_cost : %.5f\"%((epoch+1),avg_cost))"
   ]
  },
  {
   "cell_type": "code",
   "execution_count": 37,
   "metadata": {},
   "outputs": [
    {
     "name": "stdout",
     "output_type": "stream",
     "text": [
      "Accuracy: 0.10900\n"
     ]
    }
   ],
   "source": [
    "with torch.no_grad():\n",
    "    bn_model.eval() #드롭아웃, BN등이 train에만 적용되어야함\n",
    "    X_test = mnist_test.test_data.view(-1,28*28).float().to(device)\n",
    "    Y_test = mnist_test.test_labels.to(device)\n",
    "    prediction= bn_model(X_test)\n",
    "    correct_prediction = Y_test == torch.argmax(prediction,1)\n",
    "    accuracy = correct_prediction.float().mean()\n",
    "    print(\"Accuracy: %.5f\"%accuracy.item())"
   ]
  },
  {
   "cell_type": "code",
   "execution_count": null,
   "metadata": {},
   "outputs": [],
   "source": []
  }
 ],
 "metadata": {
  "kernelspec": {
   "display_name": "pytorch",
   "language": "python",
   "name": "pytorch"
  },
  "language_info": {
   "codemirror_mode": {
    "name": "ipython",
    "version": 3
   },
   "file_extension": ".py",
   "mimetype": "text/x-python",
   "name": "python",
   "nbconvert_exporter": "python",
   "pygments_lexer": "ipython3",
   "version": "3.8.5"
  }
 },
 "nbformat": 4,
 "nbformat_minor": 4
}
